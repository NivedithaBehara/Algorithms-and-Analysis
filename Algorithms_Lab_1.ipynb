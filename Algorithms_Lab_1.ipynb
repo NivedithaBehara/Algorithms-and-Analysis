{
  "nbformat": 4,
  "nbformat_minor": 0,
  "metadata": {
    "colab": {
      "provenance": [],
      "authorship_tag": "ABX9TyMR3cZl0G3n1gccESj5NFWU",
      "include_colab_link": true
    },
    "kernelspec": {
      "name": "python3",
      "display_name": "Python 3"
    },
    "language_info": {
      "name": "python"
    }
  },
  "cells": [
    {
      "cell_type": "markdown",
      "metadata": {
        "id": "view-in-github",
        "colab_type": "text"
      },
      "source": [
        "<a href=\"https://colab.research.google.com/github/NivedithaBehara/Algorithms-and-Analysis/blob/main/Algorithms_Lab_1.ipynb\" target=\"_parent\"><img src=\"https://colab.research.google.com/assets/colab-badge.svg\" alt=\"Open In Colab\"/></a>"
      ]
    },
    {
      "cell_type": "code",
      "execution_count": 1,
      "metadata": {
        "colab": {
          "base_uri": "https://localhost:8080/"
        },
        "id": "RZat0KYPsmhO",
        "outputId": "0dbf691e-fe35-4e64-8a67-bcfb6a7f90e6"
      },
      "outputs": [
        {
          "output_type": "stream",
          "name": "stdout",
          "text": [
            "Original data: [45, 32, 16, 84, 76, 1, 19]\n",
            "Sorted Array:\n",
            "[1, 16, 19, 32, 45, 76, 84]\n"
          ]
        }
      ],
      "source": [
        "# Bubble sort in Python\n",
        "def bubbleSort(array):\n",
        "  for i in range(len(array)):\n",
        "    for j in range(0, len(array) - i - 1):\n",
        "      if array[j] > array[j + 1]:\n",
        "        temp = array[j]\n",
        "        array[j] = array[j+1]\n",
        "        array[j+1] = temp\n",
        "\n",
        "data = [45,32,16,84,76,1,19]\n",
        "print(f\"Original data: {data}\")\n",
        "bubbleSort(data)\n",
        "print('Sorted Array:')\n",
        "print(data)"
      ]
    },
    {
      "cell_type": "code",
      "source": [
        "# Selection sort in Python\n",
        "def selectionSort(array, n):\n",
        "    for step in range(n):\n",
        "        min_idx = step\n",
        "        for i in range(step + 1, size):\n",
        "            if array[i] < array[min_idx]:\n",
        "                min_idx = i\n",
        "        (array[step], array[min_idx]) = (array[min_idx], array[step])\n",
        "\n",
        "\n",
        "data = [45,32,16,84,76,1,19]\n",
        "print(f\"Original data: {data}\")\n",
        "size = len(data)\n",
        "selectionSort(data, size)\n",
        "print('Sorted Array :')\n",
        "print(data)"
      ],
      "metadata": {
        "colab": {
          "base_uri": "https://localhost:8080/"
        },
        "id": "GX9IJuHMsxI0",
        "outputId": "684c6ca3-7337-4bad-b0d9-7dbf4c522ff6"
      },
      "execution_count": 2,
      "outputs": [
        {
          "output_type": "stream",
          "name": "stdout",
          "text": [
            "Original data: [45, 32, 16, 84, 76, 1, 19]\n",
            "Sorted Array :\n",
            "[1, 16, 19, 32, 45, 76, 84]\n"
          ]
        }
      ]
    }
  ]
}