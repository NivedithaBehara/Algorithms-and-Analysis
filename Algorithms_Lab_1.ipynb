{
  "nbformat": 4,
  "nbformat_minor": 0,
  "metadata": {
    "colab": {
      "provenance": [],
      "authorship_tag": "ABX9TyOUtVElM7SYR1B4DQf1X4Cu",
      "include_colab_link": true
    },
    "kernelspec": {
      "name": "python3",
      "display_name": "Python 3"
    },
    "language_info": {
      "name": "python"
    }
  },
  "cells": [
    {
      "cell_type": "markdown",
      "metadata": {
        "id": "view-in-github",
        "colab_type": "text"
      },
      "source": [
        "<a href=\"https://colab.research.google.com/github/NivedithaBehara/Algorithms-and-Analysis/blob/main/Algorithms_Lab_1.ipynb\" target=\"_parent\"><img src=\"https://colab.research.google.com/assets/colab-badge.svg\" alt=\"Open In Colab\"/></a>"
      ]
    },
    {
      "cell_type": "code",
      "execution_count": 3,
      "metadata": {
        "colab": {
          "base_uri": "https://localhost:8080/"
        },
        "id": "RZat0KYPsmhO",
        "outputId": "822148b3-e15f-4276-e26f-1965cdef0ba3"
      },
      "outputs": [
        {
          "output_type": "stream",
          "name": "stdout",
          "text": [
            "Original data: [45, 32, 16, 84, 76, 1, 19]\n",
            "Sorted Array:\n",
            "[1, 16, 19, 32, 45, 76, 84]\n"
          ]
        }
      ],
      "source": [
        "# Bubble sort in Python\n",
        "def bubbleSort(array):\n",
        "  for i in range(len(array)):\n",
        "    for j in range(0, len(array) - i - 1):\n",
        "      if array[j] > array[j + 1]:\n",
        "        temp = array[j]\n",
        "        array[j] = array[j+1]\n",
        "        array[j+1] = temp\n",
        "\n",
        "data = [45,32,16,84,76,1,19]\n",
        "print(f\"Original data: {data}\")\n",
        "bubbleSort(data)\n",
        "print('Sorted Array:')\n",
        "print(data)"
      ]
    },
    {
      "cell_type": "code",
      "source": [
        "# Selection sort in Python\n",
        "def selectionSort(array, n):\n",
        "    for step in range(n):\n",
        "        min_idx = step\n",
        "        for i in range(step + 1, size):\n",
        "            if array[i] < array[min_idx]:\n",
        "                min_idx = i\n",
        "        (array[step], array[min_idx]) = (array[min_idx], array[step])\n",
        "\n",
        "\n",
        "data = [45,32,16,84,76,1,19]\n",
        "print(f\"Original data: {data}\")\n",
        "size = len(data)\n",
        "selectionSort(data, size)\n",
        "print('Sorted Array :')\n",
        "print(data)"
      ],
      "metadata": {
        "colab": {
          "base_uri": "https://localhost:8080/"
        },
        "id": "GX9IJuHMsxI0",
        "outputId": "621a19c8-4d7d-4eb0-86d4-5b7e356b9688"
      },
      "execution_count": 4,
      "outputs": [
        {
          "output_type": "stream",
          "name": "stdout",
          "text": [
            "Original data: [45, 32, 16, 84, 76, 1, 19]\n",
            "Sorted Array :\n",
            "[1, 16, 19, 32, 45, 76, 84]\n"
          ]
        }
      ]
    },
    {
      "cell_type": "code",
      "source": [
        "#Implementing dfs using recurcive\n",
        "def dfs_recursive(graph, node, visited):\n",
        "    if node not in visited:\n",
        "        print(node, end=\" \")   # Process the node\n",
        "        visited.add(node)\n",
        "        for neighbor in graph[node]:\n",
        "            dfs_recursive(graph, neighbor, visited)\n",
        "\n",
        "# Example usage\n",
        "graph = {\n",
        "    'A': ['B', 'C'],\n",
        "    'B': ['D', 'E'],\n",
        "    'C': ['F'],\n",
        "    'D': [],\n",
        "    'E': ['F'],\n",
        "    'F': []\n",
        "}\n",
        "\n",
        "visited = set()\n",
        "dfs_recursive(graph, 'A', visited)"
      ],
      "metadata": {
        "colab": {
          "base_uri": "https://localhost:8080/"
        },
        "id": "FsoFjAxHznkY",
        "outputId": "a3469626-5015-47ac-f482-c6f938781723"
      },
      "execution_count": 5,
      "outputs": [
        {
          "output_type": "stream",
          "name": "stdout",
          "text": [
            "A B D E F C "
          ]
        }
      ]
    },
    {
      "cell_type": "code",
      "source": [
        "# implementing shortest path using dfs for two nodes\n",
        "def dfs_shortest_path(graph, start, end, path=None, visited=None, shortest=None):\n",
        "    if path is None:\n",
        "        path = []\n",
        "    if visited is None:\n",
        "        visited = set()\n",
        "\n",
        "    path.append(start)\n",
        "    visited.add(start)\n",
        "\n",
        "    # If we reached the end node\n",
        "    if start == end:\n",
        "        if shortest is None or len(path) < len(shortest):\n",
        "            shortest = path.copy()\n",
        "    else:\n",
        "        for neighbor in graph[start]:\n",
        "            if neighbor not in visited:\n",
        "                shortest = dfs_shortest_path(graph, neighbor, end, path, visited, shortest)\n",
        "\n",
        "    # Backtrack\n",
        "    path.pop()\n",
        "    visited.remove(start)\n",
        "\n",
        "    return shortest\n",
        "\n",
        "# Example graph as adjacency list\n",
        "graph = {\n",
        "    'A': ['B', 'C'],\n",
        "    'B': ['D', 'E'],\n",
        "    'C': ['F'],\n",
        "    'D': ['G'],\n",
        "    'E': ['G'],\n",
        "    'F': ['G'],\n",
        "    'G': []\n",
        "}\n",
        "\n",
        "start_node = 'A'\n",
        "end_node = 'G'\n",
        "\n",
        "shortest_path = dfs_shortest_path(graph, start_node, end_node)\n",
        "print(\"Shortest path:\", shortest_path)"
      ],
      "metadata": {
        "colab": {
          "base_uri": "https://localhost:8080/"
        },
        "id": "437-wMvvzzZm",
        "outputId": "be4150c5-ab9f-45e5-f93f-761011b548f9"
      },
      "execution_count": 6,
      "outputs": [
        {
          "output_type": "stream",
          "name": "stdout",
          "text": [
            "Shortest path: ['A', 'B', 'D', 'G']\n"
          ]
        }
      ]
    }
  ]
}